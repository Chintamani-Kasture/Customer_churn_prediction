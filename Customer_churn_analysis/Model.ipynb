{
 "cells": [
  {
   "cell_type": "code",
   "execution_count": 1,
   "id": "eight-joshua",
   "metadata": {},
   "outputs": [],
   "source": [
    "import pandas as pd\n",
    "from sklearn import metrics\n",
    "from sklearn.model_selection import train_test_split\n",
    "from sklearn.metrics import recall_score\n",
    "from sklearn.metrics import classification_report\n",
    "from sklearn.metrics import confusion_matrix\n",
    "from sklearn.tree import DecisionTreeClassifier\n",
    "import matplotlib.pyplot as plt"
   ]
  },
  {
   "cell_type": "code",
   "execution_count": 2,
   "id": "digital-executive",
   "metadata": {},
   "outputs": [],
   "source": [
    "dataframe = pd.read_csv('churn.csv')"
   ]
  },
  {
   "cell_type": "code",
   "execution_count": 3,
   "id": "preceding-duration",
   "metadata": {},
   "outputs": [
    {
     "data": {
      "text/html": [
       "<div>\n",
       "<style scoped>\n",
       "    .dataframe tbody tr th:only-of-type {\n",
       "        vertical-align: middle;\n",
       "    }\n",
       "\n",
       "    .dataframe tbody tr th {\n",
       "        vertical-align: top;\n",
       "    }\n",
       "\n",
       "    .dataframe thead th {\n",
       "        text-align: right;\n",
       "    }\n",
       "</style>\n",
       "<table border=\"1\" class=\"dataframe\">\n",
       "  <thead>\n",
       "    <tr style=\"text-align: right;\">\n",
       "      <th></th>\n",
       "      <th>Unnamed: 0</th>\n",
       "      <th>SeniorCitizen</th>\n",
       "      <th>tenure</th>\n",
       "      <th>MonthlyCharges</th>\n",
       "      <th>TotalCharges</th>\n",
       "      <th>Churn</th>\n",
       "      <th>gender_Female</th>\n",
       "      <th>gender_Male</th>\n",
       "      <th>Partner_No</th>\n",
       "      <th>Partner_Yes</th>\n",
       "      <th>...</th>\n",
       "      <th>Contract_Two year</th>\n",
       "      <th>PaperlessBilling_No</th>\n",
       "      <th>PaperlessBilling_Yes</th>\n",
       "      <th>PaymentMethod_Bank transfer (automatic)</th>\n",
       "      <th>PaymentMethod_Credit card (automatic)</th>\n",
       "      <th>PaymentMethod_Electronic check</th>\n",
       "      <th>PaymentMethod_Mailed check</th>\n",
       "      <th>tenure_group_1 - 24</th>\n",
       "      <th>tenure_group_25 - 48</th>\n",
       "      <th>tenure_group_49 - 72</th>\n",
       "    </tr>\n",
       "  </thead>\n",
       "  <tbody>\n",
       "    <tr>\n",
       "      <th>0</th>\n",
       "      <td>0</td>\n",
       "      <td>0</td>\n",
       "      <td>1</td>\n",
       "      <td>29.85</td>\n",
       "      <td>29.85</td>\n",
       "      <td>0</td>\n",
       "      <td>1</td>\n",
       "      <td>0</td>\n",
       "      <td>0</td>\n",
       "      <td>1</td>\n",
       "      <td>...</td>\n",
       "      <td>0</td>\n",
       "      <td>0</td>\n",
       "      <td>1</td>\n",
       "      <td>0</td>\n",
       "      <td>0</td>\n",
       "      <td>1</td>\n",
       "      <td>0</td>\n",
       "      <td>1</td>\n",
       "      <td>0</td>\n",
       "      <td>0</td>\n",
       "    </tr>\n",
       "    <tr>\n",
       "      <th>1</th>\n",
       "      <td>1</td>\n",
       "      <td>0</td>\n",
       "      <td>34</td>\n",
       "      <td>56.95</td>\n",
       "      <td>1889.50</td>\n",
       "      <td>0</td>\n",
       "      <td>0</td>\n",
       "      <td>1</td>\n",
       "      <td>1</td>\n",
       "      <td>0</td>\n",
       "      <td>...</td>\n",
       "      <td>0</td>\n",
       "      <td>1</td>\n",
       "      <td>0</td>\n",
       "      <td>0</td>\n",
       "      <td>0</td>\n",
       "      <td>0</td>\n",
       "      <td>1</td>\n",
       "      <td>0</td>\n",
       "      <td>1</td>\n",
       "      <td>0</td>\n",
       "    </tr>\n",
       "    <tr>\n",
       "      <th>2</th>\n",
       "      <td>2</td>\n",
       "      <td>0</td>\n",
       "      <td>2</td>\n",
       "      <td>53.85</td>\n",
       "      <td>108.15</td>\n",
       "      <td>1</td>\n",
       "      <td>0</td>\n",
       "      <td>1</td>\n",
       "      <td>1</td>\n",
       "      <td>0</td>\n",
       "      <td>...</td>\n",
       "      <td>0</td>\n",
       "      <td>0</td>\n",
       "      <td>1</td>\n",
       "      <td>0</td>\n",
       "      <td>0</td>\n",
       "      <td>0</td>\n",
       "      <td>1</td>\n",
       "      <td>1</td>\n",
       "      <td>0</td>\n",
       "      <td>0</td>\n",
       "    </tr>\n",
       "    <tr>\n",
       "      <th>3</th>\n",
       "      <td>3</td>\n",
       "      <td>0</td>\n",
       "      <td>45</td>\n",
       "      <td>42.30</td>\n",
       "      <td>1840.75</td>\n",
       "      <td>0</td>\n",
       "      <td>0</td>\n",
       "      <td>1</td>\n",
       "      <td>1</td>\n",
       "      <td>0</td>\n",
       "      <td>...</td>\n",
       "      <td>0</td>\n",
       "      <td>1</td>\n",
       "      <td>0</td>\n",
       "      <td>1</td>\n",
       "      <td>0</td>\n",
       "      <td>0</td>\n",
       "      <td>0</td>\n",
       "      <td>0</td>\n",
       "      <td>1</td>\n",
       "      <td>0</td>\n",
       "    </tr>\n",
       "    <tr>\n",
       "      <th>4</th>\n",
       "      <td>4</td>\n",
       "      <td>0</td>\n",
       "      <td>2</td>\n",
       "      <td>70.70</td>\n",
       "      <td>151.65</td>\n",
       "      <td>1</td>\n",
       "      <td>1</td>\n",
       "      <td>0</td>\n",
       "      <td>1</td>\n",
       "      <td>0</td>\n",
       "      <td>...</td>\n",
       "      <td>0</td>\n",
       "      <td>0</td>\n",
       "      <td>1</td>\n",
       "      <td>0</td>\n",
       "      <td>0</td>\n",
       "      <td>1</td>\n",
       "      <td>0</td>\n",
       "      <td>1</td>\n",
       "      <td>0</td>\n",
       "      <td>0</td>\n",
       "    </tr>\n",
       "  </tbody>\n",
       "</table>\n",
       "<p>5 rows × 50 columns</p>\n",
       "</div>"
      ],
      "text/plain": [
       "   Unnamed: 0  SeniorCitizen  tenure  MonthlyCharges  TotalCharges  Churn  \\\n",
       "0           0              0       1           29.85         29.85      0   \n",
       "1           1              0      34           56.95       1889.50      0   \n",
       "2           2              0       2           53.85        108.15      1   \n",
       "3           3              0      45           42.30       1840.75      0   \n",
       "4           4              0       2           70.70        151.65      1   \n",
       "\n",
       "   gender_Female  gender_Male  Partner_No  Partner_Yes  ...  \\\n",
       "0              1            0           0            1  ...   \n",
       "1              0            1           1            0  ...   \n",
       "2              0            1           1            0  ...   \n",
       "3              0            1           1            0  ...   \n",
       "4              1            0           1            0  ...   \n",
       "\n",
       "   Contract_Two year  PaperlessBilling_No  PaperlessBilling_Yes  \\\n",
       "0                  0                    0                     1   \n",
       "1                  0                    1                     0   \n",
       "2                  0                    0                     1   \n",
       "3                  0                    1                     0   \n",
       "4                  0                    0                     1   \n",
       "\n",
       "   PaymentMethod_Bank transfer (automatic)  \\\n",
       "0                                        0   \n",
       "1                                        0   \n",
       "2                                        0   \n",
       "3                                        1   \n",
       "4                                        0   \n",
       "\n",
       "   PaymentMethod_Credit card (automatic)  PaymentMethod_Electronic check  \\\n",
       "0                                      0                               1   \n",
       "1                                      0                               0   \n",
       "2                                      0                               0   \n",
       "3                                      0                               0   \n",
       "4                                      0                               1   \n",
       "\n",
       "   PaymentMethod_Mailed check  tenure_group_1 - 24  tenure_group_25 - 48  \\\n",
       "0                           0                    1                     0   \n",
       "1                           1                    0                     1   \n",
       "2                           1                    1                     0   \n",
       "3                           0                    0                     1   \n",
       "4                           0                    1                     0   \n",
       "\n",
       "   tenure_group_49 - 72  \n",
       "0                     0  \n",
       "1                     0  \n",
       "2                     0  \n",
       "3                     0  \n",
       "4                     0  \n",
       "\n",
       "[5 rows x 50 columns]"
      ]
     },
     "execution_count": 3,
     "metadata": {},
     "output_type": "execute_result"
    }
   ],
   "source": [
    "dataframe.head(5)"
   ]
  },
  {
   "cell_type": "code",
   "execution_count": 4,
   "id": "satisfactory-permit",
   "metadata": {},
   "outputs": [],
   "source": [
    "dataframe = dataframe.drop('Unnamed: 0',axis=1)"
   ]
  },
  {
   "cell_type": "code",
   "execution_count": 5,
   "id": "acting-retailer",
   "metadata": {},
   "outputs": [
    {
     "data": {
      "text/html": [
       "<div>\n",
       "<style scoped>\n",
       "    .dataframe tbody tr th:only-of-type {\n",
       "        vertical-align: middle;\n",
       "    }\n",
       "\n",
       "    .dataframe tbody tr th {\n",
       "        vertical-align: top;\n",
       "    }\n",
       "\n",
       "    .dataframe thead th {\n",
       "        text-align: right;\n",
       "    }\n",
       "</style>\n",
       "<table border=\"1\" class=\"dataframe\">\n",
       "  <thead>\n",
       "    <tr style=\"text-align: right;\">\n",
       "      <th></th>\n",
       "      <th>SeniorCitizen</th>\n",
       "      <th>tenure</th>\n",
       "      <th>MonthlyCharges</th>\n",
       "      <th>TotalCharges</th>\n",
       "      <th>gender_Female</th>\n",
       "      <th>gender_Male</th>\n",
       "      <th>Partner_No</th>\n",
       "      <th>Partner_Yes</th>\n",
       "      <th>Dependents_No</th>\n",
       "      <th>Dependents_Yes</th>\n",
       "      <th>...</th>\n",
       "      <th>Contract_Two year</th>\n",
       "      <th>PaperlessBilling_No</th>\n",
       "      <th>PaperlessBilling_Yes</th>\n",
       "      <th>PaymentMethod_Bank transfer (automatic)</th>\n",
       "      <th>PaymentMethod_Credit card (automatic)</th>\n",
       "      <th>PaymentMethod_Electronic check</th>\n",
       "      <th>PaymentMethod_Mailed check</th>\n",
       "      <th>tenure_group_1 - 24</th>\n",
       "      <th>tenure_group_25 - 48</th>\n",
       "      <th>tenure_group_49 - 72</th>\n",
       "    </tr>\n",
       "  </thead>\n",
       "  <tbody>\n",
       "    <tr>\n",
       "      <th>0</th>\n",
       "      <td>0</td>\n",
       "      <td>1</td>\n",
       "      <td>29.85</td>\n",
       "      <td>29.85</td>\n",
       "      <td>1</td>\n",
       "      <td>0</td>\n",
       "      <td>0</td>\n",
       "      <td>1</td>\n",
       "      <td>1</td>\n",
       "      <td>0</td>\n",
       "      <td>...</td>\n",
       "      <td>0</td>\n",
       "      <td>0</td>\n",
       "      <td>1</td>\n",
       "      <td>0</td>\n",
       "      <td>0</td>\n",
       "      <td>1</td>\n",
       "      <td>0</td>\n",
       "      <td>1</td>\n",
       "      <td>0</td>\n",
       "      <td>0</td>\n",
       "    </tr>\n",
       "    <tr>\n",
       "      <th>1</th>\n",
       "      <td>0</td>\n",
       "      <td>34</td>\n",
       "      <td>56.95</td>\n",
       "      <td>1889.50</td>\n",
       "      <td>0</td>\n",
       "      <td>1</td>\n",
       "      <td>1</td>\n",
       "      <td>0</td>\n",
       "      <td>1</td>\n",
       "      <td>0</td>\n",
       "      <td>...</td>\n",
       "      <td>0</td>\n",
       "      <td>1</td>\n",
       "      <td>0</td>\n",
       "      <td>0</td>\n",
       "      <td>0</td>\n",
       "      <td>0</td>\n",
       "      <td>1</td>\n",
       "      <td>0</td>\n",
       "      <td>1</td>\n",
       "      <td>0</td>\n",
       "    </tr>\n",
       "    <tr>\n",
       "      <th>2</th>\n",
       "      <td>0</td>\n",
       "      <td>2</td>\n",
       "      <td>53.85</td>\n",
       "      <td>108.15</td>\n",
       "      <td>0</td>\n",
       "      <td>1</td>\n",
       "      <td>1</td>\n",
       "      <td>0</td>\n",
       "      <td>1</td>\n",
       "      <td>0</td>\n",
       "      <td>...</td>\n",
       "      <td>0</td>\n",
       "      <td>0</td>\n",
       "      <td>1</td>\n",
       "      <td>0</td>\n",
       "      <td>0</td>\n",
       "      <td>0</td>\n",
       "      <td>1</td>\n",
       "      <td>1</td>\n",
       "      <td>0</td>\n",
       "      <td>0</td>\n",
       "    </tr>\n",
       "    <tr>\n",
       "      <th>3</th>\n",
       "      <td>0</td>\n",
       "      <td>45</td>\n",
       "      <td>42.30</td>\n",
       "      <td>1840.75</td>\n",
       "      <td>0</td>\n",
       "      <td>1</td>\n",
       "      <td>1</td>\n",
       "      <td>0</td>\n",
       "      <td>1</td>\n",
       "      <td>0</td>\n",
       "      <td>...</td>\n",
       "      <td>0</td>\n",
       "      <td>1</td>\n",
       "      <td>0</td>\n",
       "      <td>1</td>\n",
       "      <td>0</td>\n",
       "      <td>0</td>\n",
       "      <td>0</td>\n",
       "      <td>0</td>\n",
       "      <td>1</td>\n",
       "      <td>0</td>\n",
       "    </tr>\n",
       "    <tr>\n",
       "      <th>4</th>\n",
       "      <td>0</td>\n",
       "      <td>2</td>\n",
       "      <td>70.70</td>\n",
       "      <td>151.65</td>\n",
       "      <td>1</td>\n",
       "      <td>0</td>\n",
       "      <td>1</td>\n",
       "      <td>0</td>\n",
       "      <td>1</td>\n",
       "      <td>0</td>\n",
       "      <td>...</td>\n",
       "      <td>0</td>\n",
       "      <td>0</td>\n",
       "      <td>1</td>\n",
       "      <td>0</td>\n",
       "      <td>0</td>\n",
       "      <td>1</td>\n",
       "      <td>0</td>\n",
       "      <td>1</td>\n",
       "      <td>0</td>\n",
       "      <td>0</td>\n",
       "    </tr>\n",
       "  </tbody>\n",
       "</table>\n",
       "<p>5 rows × 48 columns</p>\n",
       "</div>"
      ],
      "text/plain": [
       "   SeniorCitizen  tenure  MonthlyCharges  TotalCharges  gender_Female  \\\n",
       "0              0       1           29.85         29.85              1   \n",
       "1              0      34           56.95       1889.50              0   \n",
       "2              0       2           53.85        108.15              0   \n",
       "3              0      45           42.30       1840.75              0   \n",
       "4              0       2           70.70        151.65              1   \n",
       "\n",
       "   gender_Male  Partner_No  Partner_Yes  Dependents_No  Dependents_Yes  ...  \\\n",
       "0            0           0            1              1               0  ...   \n",
       "1            1           1            0              1               0  ...   \n",
       "2            1           1            0              1               0  ...   \n",
       "3            1           1            0              1               0  ...   \n",
       "4            0           1            0              1               0  ...   \n",
       "\n",
       "   Contract_Two year  PaperlessBilling_No  PaperlessBilling_Yes  \\\n",
       "0                  0                    0                     1   \n",
       "1                  0                    1                     0   \n",
       "2                  0                    0                     1   \n",
       "3                  0                    1                     0   \n",
       "4                  0                    0                     1   \n",
       "\n",
       "   PaymentMethod_Bank transfer (automatic)  \\\n",
       "0                                        0   \n",
       "1                                        0   \n",
       "2                                        0   \n",
       "3                                        1   \n",
       "4                                        0   \n",
       "\n",
       "   PaymentMethod_Credit card (automatic)  PaymentMethod_Electronic check  \\\n",
       "0                                      0                               1   \n",
       "1                                      0                               0   \n",
       "2                                      0                               0   \n",
       "3                                      0                               0   \n",
       "4                                      0                               1   \n",
       "\n",
       "   PaymentMethod_Mailed check  tenure_group_1 - 24  tenure_group_25 - 48  \\\n",
       "0                           0                    1                     0   \n",
       "1                           1                    0                     1   \n",
       "2                           1                    1                     0   \n",
       "3                           0                    0                     1   \n",
       "4                           0                    1                     0   \n",
       "\n",
       "   tenure_group_49 - 72  \n",
       "0                     0  \n",
       "1                     0  \n",
       "2                     0  \n",
       "3                     0  \n",
       "4                     0  \n",
       "\n",
       "[5 rows x 48 columns]"
      ]
     },
     "execution_count": 5,
     "metadata": {},
     "output_type": "execute_result"
    }
   ],
   "source": [
    "x = dataframe.drop('Churn',axis=1)\n",
    "x.head(5)"
   ]
  },
  {
   "cell_type": "code",
   "execution_count": 6,
   "id": "assured-diameter",
   "metadata": {},
   "outputs": [
    {
     "data": {
      "text/plain": [
       "0    0\n",
       "1    0\n",
       "2    1\n",
       "3    0\n",
       "4    1\n",
       "Name: Churn, dtype: int64"
      ]
     },
     "execution_count": 6,
     "metadata": {},
     "output_type": "execute_result"
    }
   ],
   "source": [
    "y = dataframe['Churn']\n",
    "y.head(5)"
   ]
  },
  {
   "cell_type": "code",
   "execution_count": 7,
   "id": "employed-china",
   "metadata": {},
   "outputs": [],
   "source": [
    "X_train,X_test,Y_train,Y_test = train_test_split(x,y,test_size=0.2)"
   ]
  },
  {
   "cell_type": "code",
   "execution_count": 8,
   "id": "least-compensation",
   "metadata": {},
   "outputs": [],
   "source": [
    "from sklearn.preprocessing import StandardScaler\n",
    "sc = StandardScaler()\n",
    "X_train = sc.fit_transform(X_train)\n",
    "X_test = sc.transform(X_test)"
   ]
  },
  {
   "cell_type": "code",
   "execution_count": 9,
   "id": "pacific-legislation",
   "metadata": {},
   "outputs": [
    {
     "data": {
      "text/plain": [
       "array([[-0.43515555,  1.61172574,  1.37406508, ..., -0.91126799,\n",
       "        -0.54137933,  1.46303391],\n",
       "       [-0.43515555, -1.07635615, -1.47855103, ...,  1.09737202,\n",
       "        -0.54137933, -0.68351116],\n",
       "       [-0.43515555, -1.1985417 , -1.02453606, ...,  1.09737202,\n",
       "        -0.54137933, -0.68351116],\n",
       "       ...,\n",
       "       [-0.43515555, -1.23927021, -0.67901731, ...,  1.09737202,\n",
       "        -0.54137933, -0.68351116],\n",
       "       [-0.43515555,  1.61172574,  1.33734328, ..., -0.91126799,\n",
       "        -0.54137933,  1.46303391],\n",
       "       [-0.43515555, -0.99489913, -1.48522772, ...,  1.09737202,\n",
       "        -0.54137933, -0.68351116]])"
      ]
     },
     "execution_count": 9,
     "metadata": {},
     "output_type": "execute_result"
    }
   ],
   "source": [
    "X_train"
   ]
  },
  {
   "cell_type": "code",
   "execution_count": 10,
   "id": "acknowledged-dublin",
   "metadata": {},
   "outputs": [
    {
     "data": {
      "text/plain": [
       "array([[-0.43515555, -1.03562764,  1.01519296, ...,  1.09737202,\n",
       "        -0.54137933, -0.68351116],\n",
       "       [-0.43515555, -0.54688548, -0.84259624, ...,  1.09737202,\n",
       "        -0.54137933, -0.68351116],\n",
       "       [-0.43515555, -1.23927021, -0.65731807, ...,  1.09737202,\n",
       "        -0.54137933, -0.68351116],\n",
       "       ...,\n",
       "       [-0.43515555, -0.38397142, -1.50692696, ...,  1.09737202,\n",
       "        -0.54137933, -0.68351116],\n",
       "       [-0.43515555, -1.27999872, -1.49357358, ...,  1.09737202,\n",
       "        -0.54137933, -0.68351116],\n",
       "       [-0.43515555, -0.9134421 , -0.80921278, ...,  1.09737202,\n",
       "        -0.54137933, -0.68351116]])"
      ]
     },
     "execution_count": 10,
     "metadata": {},
     "output_type": "execute_result"
    }
   ],
   "source": [
    "X_test"
   ]
  },
  {
   "cell_type": "markdown",
   "id": "traditional-seller",
   "metadata": {},
   "source": [
    "K-Nearest Neighbors Model"
   ]
  },
  {
   "cell_type": "code",
   "execution_count": 11,
   "id": "assisted-magnitude",
   "metadata": {},
   "outputs": [],
   "source": [
    "from sklearn.neighbors import KNeighborsClassifier"
   ]
  },
  {
   "cell_type": "code",
   "execution_count": 12,
   "id": "surrounded-youth",
   "metadata": {},
   "outputs": [
    {
     "data": {
      "text/plain": [
       "KNeighborsClassifier(n_neighbors=40)"
      ]
     },
     "execution_count": 12,
     "metadata": {},
     "output_type": "execute_result"
    }
   ],
   "source": [
    "Knn_model = KNeighborsClassifier(n_neighbors = 40)\n",
    "Knn_model.fit(X_train,Y_train)"
   ]
  },
  {
   "cell_type": "code",
   "execution_count": 13,
   "id": "brown-symphony",
   "metadata": {},
   "outputs": [
    {
     "data": {
      "text/plain": [
       "array([1, 1, 1, ..., 0, 0, 0], dtype=int64)"
      ]
     },
     "execution_count": 13,
     "metadata": {},
     "output_type": "execute_result"
    }
   ],
   "source": [
    "y_predictKnn = Knn_model.predict(X_test)\n",
    "y_predictKnn"
   ]
  },
  {
   "cell_type": "code",
   "execution_count": 14,
   "id": "happy-hello",
   "metadata": {},
   "outputs": [
    {
     "name": "stdout",
     "output_type": "stream",
     "text": [
      "              precision    recall  f1-score   support\n",
      "\n",
      "           0       0.85      0.87      0.86      1032\n",
      "           1       0.63      0.58      0.60       377\n",
      "\n",
      "    accuracy                           0.79      1409\n",
      "   macro avg       0.74      0.73      0.73      1409\n",
      "weighted avg       0.79      0.79      0.79      1409\n",
      "\n",
      "[[902 130]\n",
      " [159 218]]\n",
      "Accuracy :  79.4889992902768\n"
     ]
    }
   ],
   "source": [
    "from sklearn.metrics import confusion_matrix,classification_report,accuracy_score\n",
    "\n",
    "print(classification_report(Y_test,y_predictKnn))\n",
    "print(confusion_matrix(Y_test,y_predictKnn))\n",
    "print('Accuracy : ',accuracy_score(Y_test,y_predictKnn)*100)"
   ]
  },
  {
   "cell_type": "markdown",
   "id": "advised-flexibility",
   "metadata": {},
   "source": [
    "#### As we see that accuracy is low and we also know that the dataset is imbalanced so we will not consider accuracy as a measure\n",
    "#### So will further check values of precision recall and f1_score for minority class that is for '1' or for 'Churned' customers which we can see is quite low class 1.\n"
   ]
  },
  {
   "cell_type": "markdown",
   "id": "annual-bishop",
   "metadata": {},
   "source": [
    "Using RandomForest model"
   ]
  },
  {
   "cell_type": "code",
   "execution_count": 15,
   "id": "matched-referral",
   "metadata": {},
   "outputs": [],
   "source": [
    "from sklearn.ensemble import RandomForestClassifier"
   ]
  },
  {
   "cell_type": "code",
   "execution_count": 16,
   "id": "dutch-iceland",
   "metadata": {},
   "outputs": [
    {
     "data": {
      "text/plain": [
       "RandomForestClassifier(n_estimators=200)"
      ]
     },
     "execution_count": 16,
     "metadata": {},
     "output_type": "execute_result"
    }
   ],
   "source": [
    "RF_model = RandomForestClassifier(n_estimators = 200)\n",
    "RF_model.fit(X_train,Y_train)"
   ]
  },
  {
   "cell_type": "code",
   "execution_count": 17,
   "id": "understood-procurement",
   "metadata": {},
   "outputs": [
    {
     "data": {
      "text/plain": [
       "array([1, 0, 1, ..., 0, 0, 0], dtype=int64)"
      ]
     },
     "execution_count": 17,
     "metadata": {},
     "output_type": "execute_result"
    }
   ],
   "source": [
    "y_predictRF = RF_model.predict(X_test)\n",
    "y_predictRF"
   ]
  },
  {
   "cell_type": "code",
   "execution_count": 18,
   "id": "continuing-ontario",
   "metadata": {},
   "outputs": [
    {
     "name": "stdout",
     "output_type": "stream",
     "text": [
      "              precision    recall  f1-score   support\n",
      "\n",
      "           0       0.83      0.88      0.86      1032\n",
      "           1       0.61      0.50      0.55       377\n",
      "\n",
      "    accuracy                           0.78      1409\n",
      "   macro avg       0.72      0.69      0.70      1409\n",
      "weighted avg       0.77      0.78      0.77      1409\n",
      "\n",
      "[[912 120]\n",
      " [187 190]]\n",
      "Accuracy :  78.21149751596877\n"
     ]
    }
   ],
   "source": [
    "print(classification_report(Y_test,y_predictRF))\n",
    "print(confusion_matrix(Y_test,y_predictRF))\n",
    "print('Accuracy : ',accuracy_score(Y_test,y_predictRF)*100)"
   ]
  },
  {
   "cell_type": "markdown",
   "id": "personal-exception",
   "metadata": {},
   "source": [
    "#### Using Random Forest also we see quite same result"
   ]
  },
  {
   "cell_type": "markdown",
   "id": "heated-plumbing",
   "metadata": {},
   "source": [
    "Using Decision Tree "
   ]
  },
  {
   "cell_type": "code",
   "execution_count": 19,
   "id": "relevant-crest",
   "metadata": {},
   "outputs": [],
   "source": [
    "from sklearn.tree import DecisionTreeClassifier"
   ]
  },
  {
   "cell_type": "code",
   "execution_count": 20,
   "id": "stable-christian",
   "metadata": {},
   "outputs": [
    {
     "data": {
      "text/plain": [
       "DecisionTreeClassifier(criterion='entropy')"
      ]
     },
     "execution_count": 20,
     "metadata": {},
     "output_type": "execute_result"
    }
   ],
   "source": [
    "DT_model = DecisionTreeClassifier(criterion = 'entropy')\n",
    "DT_model.fit(X_train,Y_train)"
   ]
  },
  {
   "cell_type": "code",
   "execution_count": 21,
   "id": "accurate-european",
   "metadata": {},
   "outputs": [
    {
     "data": {
      "text/plain": [
       "array([1, 1, 1, ..., 0, 0, 0], dtype=int64)"
      ]
     },
     "execution_count": 21,
     "metadata": {},
     "output_type": "execute_result"
    }
   ],
   "source": [
    "y_predictDT = DT_model.predict(X_test)\n",
    "y_predictDT"
   ]
  },
  {
   "cell_type": "code",
   "execution_count": 22,
   "id": "declared-determination",
   "metadata": {},
   "outputs": [
    {
     "name": "stdout",
     "output_type": "stream",
     "text": [
      "              precision    recall  f1-score   support\n",
      "\n",
      "           0       0.82      0.82      0.82      1032\n",
      "           1       0.50      0.49      0.50       377\n",
      "\n",
      "    accuracy                           0.73      1409\n",
      "   macro avg       0.66      0.66      0.66      1409\n",
      "weighted avg       0.73      0.73      0.73      1409\n",
      "\n",
      "[[848 184]\n",
      " [192 185]]\n",
      "Accuracy :  73.31440738112136\n"
     ]
    }
   ],
   "source": [
    "print(classification_report(Y_test,y_predictDT))\n",
    "print(confusion_matrix(Y_test,y_predictDT))\n",
    "print('Accuracy : ',accuracy_score(Y_test,y_predictDT)*100)"
   ]
  },
  {
   "cell_type": "markdown",
   "id": "marine-sullivan",
   "metadata": {},
   "source": [
    "#### Using Desicision Tree we get precision recall and f1-score as around 0.50 which is quite less than KNN and Random Forest"
   ]
  },
  {
   "cell_type": "markdown",
   "id": "upper-wrestling",
   "metadata": {},
   "source": [
    "Using SVM"
   ]
  },
  {
   "cell_type": "code",
   "execution_count": 23,
   "id": "greater-glasgow",
   "metadata": {},
   "outputs": [],
   "source": [
    "from sklearn import svm"
   ]
  },
  {
   "cell_type": "code",
   "execution_count": 24,
   "id": "processed-farming",
   "metadata": {},
   "outputs": [],
   "source": [
    "svm_model = svm.SVC()"
   ]
  },
  {
   "cell_type": "code",
   "execution_count": 25,
   "id": "portuguese-particle",
   "metadata": {},
   "outputs": [
    {
     "data": {
      "text/plain": [
       "SVC()"
      ]
     },
     "execution_count": 25,
     "metadata": {},
     "output_type": "execute_result"
    }
   ],
   "source": [
    "svm_model.fit(X_train,Y_train)"
   ]
  },
  {
   "cell_type": "code",
   "execution_count": 26,
   "id": "governmental-input",
   "metadata": {},
   "outputs": [
    {
     "data": {
      "text/plain": [
       "array([1, 0, 1, ..., 0, 0, 0], dtype=int64)"
      ]
     },
     "execution_count": 26,
     "metadata": {},
     "output_type": "execute_result"
    }
   ],
   "source": [
    "y_predict = svm_model.predict(X_test)\n",
    "y_predict"
   ]
  },
  {
   "cell_type": "code",
   "execution_count": 27,
   "id": "aboriginal-butter",
   "metadata": {},
   "outputs": [
    {
     "name": "stdout",
     "output_type": "stream",
     "text": [
      "              precision    recall  f1-score   support\n",
      "\n",
      "           0       0.84      0.91      0.87      1032\n",
      "           1       0.67      0.51      0.58       377\n",
      "\n",
      "    accuracy                           0.80      1409\n",
      "   macro avg       0.75      0.71      0.73      1409\n",
      "weighted avg       0.79      0.80      0.79      1409\n",
      "\n",
      "[[939  93]\n",
      " [185 192]]\n",
      "Accuracy :  80.26969481902059\n"
     ]
    }
   ],
   "source": [
    "print(classification_report(Y_test,y_predict))\n",
    "print(confusion_matrix(Y_test,y_predict))\n",
    "print('Accuracy : ',accuracy_score(Y_test,y_predict)*100)"
   ]
  },
  {
   "cell_type": "code",
   "execution_count": 28,
   "id": "cloudy-sessions",
   "metadata": {},
   "outputs": [],
   "source": [
    "from sklearn.linear_model import LogisticRegression"
   ]
  },
  {
   "cell_type": "code",
   "execution_count": 29,
   "id": "reserved-measurement",
   "metadata": {},
   "outputs": [
    {
     "data": {
      "text/plain": [
       "LogisticRegression()"
      ]
     },
     "execution_count": 29,
     "metadata": {},
     "output_type": "execute_result"
    }
   ],
   "source": [
    "logreg = LogisticRegression()\n",
    "logreg.fit(X_train,Y_train)"
   ]
  },
  {
   "cell_type": "code",
   "execution_count": 30,
   "id": "controversial-sweden",
   "metadata": {},
   "outputs": [
    {
     "data": {
      "text/plain": [
       "array([1, 0, 1, ..., 0, 0, 0], dtype=int64)"
      ]
     },
     "execution_count": 30,
     "metadata": {},
     "output_type": "execute_result"
    }
   ],
   "source": [
    "y_predict = logreg.predict(X_test)\n",
    "y_predict"
   ]
  },
  {
   "cell_type": "code",
   "execution_count": 31,
   "id": "opened-october",
   "metadata": {},
   "outputs": [
    {
     "name": "stdout",
     "output_type": "stream",
     "text": [
      "              precision    recall  f1-score   support\n",
      "\n",
      "           0       0.84      0.90      0.87      1032\n",
      "           1       0.67      0.55      0.60       377\n",
      "\n",
      "    accuracy                           0.81      1409\n",
      "   macro avg       0.76      0.72      0.74      1409\n",
      "weighted avg       0.80      0.81      0.80      1409\n",
      "\n",
      "[[932 100]\n",
      " [171 206]]\n",
      "Accuracy :  80.76650106458482\n"
     ]
    }
   ],
   "source": [
    "print(classification_report(Y_test,y_predict))\n",
    "print(confusion_matrix(Y_test,y_predict))\n",
    "print('Accuracy : ',accuracy_score(Y_test,y_predict)*100)"
   ]
  },
  {
   "cell_type": "markdown",
   "id": "little-hygiene",
   "metadata": {},
   "source": [
    "#### In SVM and Logistic Regression we get almost same result"
   ]
  },
  {
   "cell_type": "markdown",
   "id": "imperial-camping",
   "metadata": {},
   "source": [
    "#### So first of all we will convert imbalanced dataset to balanced dataset using UpSampling Method"
   ]
  },
  {
   "cell_type": "code",
   "execution_count": 32,
   "id": "lovely-topic",
   "metadata": {},
   "outputs": [
    {
     "data": {
      "text/plain": [
       "0    5174\n",
       "1    1869\n",
       "Name: Churn, dtype: int64"
      ]
     },
     "execution_count": 32,
     "metadata": {},
     "output_type": "execute_result"
    }
   ],
   "source": [
    "dataframe['Churn'].value_counts()"
   ]
  },
  {
   "cell_type": "code",
   "execution_count": 33,
   "id": "supported-format",
   "metadata": {},
   "outputs": [],
   "source": [
    "from sklearn.utils import resample"
   ]
  },
  {
   "cell_type": "code",
   "execution_count": 34,
   "id": "afraid-extraction",
   "metadata": {},
   "outputs": [],
   "source": [
    "dataframe_majority_0 = dataframe[dataframe.Churn==0] \n",
    "dataframe_minority_1 = dataframe[dataframe.Churn==1] "
   ]
  },
  {
   "cell_type": "code",
   "execution_count": 35,
   "id": "scheduled-exhibit",
   "metadata": {},
   "outputs": [],
   "source": [
    "dataframe_minority_upsampled = resample(dataframe_minority_1,replace=True , n_samples=5174)"
   ]
  },
  {
   "cell_type": "code",
   "execution_count": 36,
   "id": "smaller-affiliation",
   "metadata": {},
   "outputs": [
    {
     "data": {
      "text/plain": [
       "0    5174\n",
       "1    5174\n",
       "Name: Churn, dtype: int64"
      ]
     },
     "execution_count": 36,
     "metadata": {},
     "output_type": "execute_result"
    }
   ],
   "source": [
    "dataframe_upsampled = pd.concat([dataframe_majority_0,dataframe_minority_upsampled])\n",
    "dataframe_upsampled['Churn'].value_counts()"
   ]
  },
  {
   "cell_type": "code",
   "execution_count": 37,
   "id": "missing-novel",
   "metadata": {},
   "outputs": [],
   "source": [
    "x=dataframe_upsampled.drop(['Churn'],axis=1)\n",
    "y=dataframe_upsampled['Churn']"
   ]
  },
  {
   "cell_type": "code",
   "execution_count": 38,
   "id": "behind-entrepreneur",
   "metadata": {},
   "outputs": [
    {
     "data": {
      "text/html": [
       "<div>\n",
       "<style scoped>\n",
       "    .dataframe tbody tr th:only-of-type {\n",
       "        vertical-align: middle;\n",
       "    }\n",
       "\n",
       "    .dataframe tbody tr th {\n",
       "        vertical-align: top;\n",
       "    }\n",
       "\n",
       "    .dataframe thead th {\n",
       "        text-align: right;\n",
       "    }\n",
       "</style>\n",
       "<table border=\"1\" class=\"dataframe\">\n",
       "  <thead>\n",
       "    <tr style=\"text-align: right;\">\n",
       "      <th></th>\n",
       "      <th>SeniorCitizen</th>\n",
       "      <th>tenure</th>\n",
       "      <th>MonthlyCharges</th>\n",
       "      <th>TotalCharges</th>\n",
       "      <th>gender_Female</th>\n",
       "      <th>gender_Male</th>\n",
       "      <th>Partner_No</th>\n",
       "      <th>Partner_Yes</th>\n",
       "      <th>Dependents_No</th>\n",
       "      <th>Dependents_Yes</th>\n",
       "      <th>...</th>\n",
       "      <th>Contract_Two year</th>\n",
       "      <th>PaperlessBilling_No</th>\n",
       "      <th>PaperlessBilling_Yes</th>\n",
       "      <th>PaymentMethod_Bank transfer (automatic)</th>\n",
       "      <th>PaymentMethod_Credit card (automatic)</th>\n",
       "      <th>PaymentMethod_Electronic check</th>\n",
       "      <th>PaymentMethod_Mailed check</th>\n",
       "      <th>tenure_group_1 - 24</th>\n",
       "      <th>tenure_group_25 - 48</th>\n",
       "      <th>tenure_group_49 - 72</th>\n",
       "    </tr>\n",
       "  </thead>\n",
       "  <tbody>\n",
       "    <tr>\n",
       "      <th>0</th>\n",
       "      <td>0</td>\n",
       "      <td>1</td>\n",
       "      <td>29.85</td>\n",
       "      <td>29.85</td>\n",
       "      <td>1</td>\n",
       "      <td>0</td>\n",
       "      <td>0</td>\n",
       "      <td>1</td>\n",
       "      <td>1</td>\n",
       "      <td>0</td>\n",
       "      <td>...</td>\n",
       "      <td>0</td>\n",
       "      <td>0</td>\n",
       "      <td>1</td>\n",
       "      <td>0</td>\n",
       "      <td>0</td>\n",
       "      <td>1</td>\n",
       "      <td>0</td>\n",
       "      <td>1</td>\n",
       "      <td>0</td>\n",
       "      <td>0</td>\n",
       "    </tr>\n",
       "    <tr>\n",
       "      <th>1</th>\n",
       "      <td>0</td>\n",
       "      <td>34</td>\n",
       "      <td>56.95</td>\n",
       "      <td>1889.50</td>\n",
       "      <td>0</td>\n",
       "      <td>1</td>\n",
       "      <td>1</td>\n",
       "      <td>0</td>\n",
       "      <td>1</td>\n",
       "      <td>0</td>\n",
       "      <td>...</td>\n",
       "      <td>0</td>\n",
       "      <td>1</td>\n",
       "      <td>0</td>\n",
       "      <td>0</td>\n",
       "      <td>0</td>\n",
       "      <td>0</td>\n",
       "      <td>1</td>\n",
       "      <td>0</td>\n",
       "      <td>1</td>\n",
       "      <td>0</td>\n",
       "    </tr>\n",
       "    <tr>\n",
       "      <th>3</th>\n",
       "      <td>0</td>\n",
       "      <td>45</td>\n",
       "      <td>42.30</td>\n",
       "      <td>1840.75</td>\n",
       "      <td>0</td>\n",
       "      <td>1</td>\n",
       "      <td>1</td>\n",
       "      <td>0</td>\n",
       "      <td>1</td>\n",
       "      <td>0</td>\n",
       "      <td>...</td>\n",
       "      <td>0</td>\n",
       "      <td>1</td>\n",
       "      <td>0</td>\n",
       "      <td>1</td>\n",
       "      <td>0</td>\n",
       "      <td>0</td>\n",
       "      <td>0</td>\n",
       "      <td>0</td>\n",
       "      <td>1</td>\n",
       "      <td>0</td>\n",
       "    </tr>\n",
       "    <tr>\n",
       "      <th>6</th>\n",
       "      <td>0</td>\n",
       "      <td>22</td>\n",
       "      <td>89.10</td>\n",
       "      <td>1949.40</td>\n",
       "      <td>0</td>\n",
       "      <td>1</td>\n",
       "      <td>1</td>\n",
       "      <td>0</td>\n",
       "      <td>0</td>\n",
       "      <td>1</td>\n",
       "      <td>...</td>\n",
       "      <td>0</td>\n",
       "      <td>0</td>\n",
       "      <td>1</td>\n",
       "      <td>0</td>\n",
       "      <td>1</td>\n",
       "      <td>0</td>\n",
       "      <td>0</td>\n",
       "      <td>1</td>\n",
       "      <td>0</td>\n",
       "      <td>0</td>\n",
       "    </tr>\n",
       "    <tr>\n",
       "      <th>7</th>\n",
       "      <td>0</td>\n",
       "      <td>10</td>\n",
       "      <td>29.75</td>\n",
       "      <td>301.90</td>\n",
       "      <td>1</td>\n",
       "      <td>0</td>\n",
       "      <td>1</td>\n",
       "      <td>0</td>\n",
       "      <td>1</td>\n",
       "      <td>0</td>\n",
       "      <td>...</td>\n",
       "      <td>0</td>\n",
       "      <td>1</td>\n",
       "      <td>0</td>\n",
       "      <td>0</td>\n",
       "      <td>0</td>\n",
       "      <td>0</td>\n",
       "      <td>1</td>\n",
       "      <td>1</td>\n",
       "      <td>0</td>\n",
       "      <td>0</td>\n",
       "    </tr>\n",
       "    <tr>\n",
       "      <th>...</th>\n",
       "      <td>...</td>\n",
       "      <td>...</td>\n",
       "      <td>...</td>\n",
       "      <td>...</td>\n",
       "      <td>...</td>\n",
       "      <td>...</td>\n",
       "      <td>...</td>\n",
       "      <td>...</td>\n",
       "      <td>...</td>\n",
       "      <td>...</td>\n",
       "      <td>...</td>\n",
       "      <td>...</td>\n",
       "      <td>...</td>\n",
       "      <td>...</td>\n",
       "      <td>...</td>\n",
       "      <td>...</td>\n",
       "      <td>...</td>\n",
       "      <td>...</td>\n",
       "      <td>...</td>\n",
       "      <td>...</td>\n",
       "      <td>...</td>\n",
       "    </tr>\n",
       "    <tr>\n",
       "      <th>650</th>\n",
       "      <td>0</td>\n",
       "      <td>3</td>\n",
       "      <td>69.55</td>\n",
       "      <td>222.30</td>\n",
       "      <td>1</td>\n",
       "      <td>0</td>\n",
       "      <td>1</td>\n",
       "      <td>0</td>\n",
       "      <td>1</td>\n",
       "      <td>0</td>\n",
       "      <td>...</td>\n",
       "      <td>0</td>\n",
       "      <td>0</td>\n",
       "      <td>1</td>\n",
       "      <td>1</td>\n",
       "      <td>0</td>\n",
       "      <td>0</td>\n",
       "      <td>0</td>\n",
       "      <td>1</td>\n",
       "      <td>0</td>\n",
       "      <td>0</td>\n",
       "    </tr>\n",
       "    <tr>\n",
       "      <th>2208</th>\n",
       "      <td>1</td>\n",
       "      <td>1</td>\n",
       "      <td>100.80</td>\n",
       "      <td>100.80</td>\n",
       "      <td>1</td>\n",
       "      <td>0</td>\n",
       "      <td>0</td>\n",
       "      <td>1</td>\n",
       "      <td>1</td>\n",
       "      <td>0</td>\n",
       "      <td>...</td>\n",
       "      <td>0</td>\n",
       "      <td>0</td>\n",
       "      <td>1</td>\n",
       "      <td>0</td>\n",
       "      <td>0</td>\n",
       "      <td>1</td>\n",
       "      <td>0</td>\n",
       "      <td>1</td>\n",
       "      <td>0</td>\n",
       "      <td>0</td>\n",
       "    </tr>\n",
       "    <tr>\n",
       "      <th>2939</th>\n",
       "      <td>1</td>\n",
       "      <td>12</td>\n",
       "      <td>83.80</td>\n",
       "      <td>1029.75</td>\n",
       "      <td>0</td>\n",
       "      <td>1</td>\n",
       "      <td>1</td>\n",
       "      <td>0</td>\n",
       "      <td>1</td>\n",
       "      <td>0</td>\n",
       "      <td>...</td>\n",
       "      <td>0</td>\n",
       "      <td>0</td>\n",
       "      <td>1</td>\n",
       "      <td>0</td>\n",
       "      <td>0</td>\n",
       "      <td>0</td>\n",
       "      <td>1</td>\n",
       "      <td>1</td>\n",
       "      <td>0</td>\n",
       "      <td>0</td>\n",
       "    </tr>\n",
       "    <tr>\n",
       "      <th>3362</th>\n",
       "      <td>0</td>\n",
       "      <td>1</td>\n",
       "      <td>54.90</td>\n",
       "      <td>54.90</td>\n",
       "      <td>1</td>\n",
       "      <td>0</td>\n",
       "      <td>1</td>\n",
       "      <td>0</td>\n",
       "      <td>1</td>\n",
       "      <td>0</td>\n",
       "      <td>...</td>\n",
       "      <td>0</td>\n",
       "      <td>0</td>\n",
       "      <td>1</td>\n",
       "      <td>0</td>\n",
       "      <td>0</td>\n",
       "      <td>1</td>\n",
       "      <td>0</td>\n",
       "      <td>1</td>\n",
       "      <td>0</td>\n",
       "      <td>0</td>\n",
       "    </tr>\n",
       "    <tr>\n",
       "      <th>6746</th>\n",
       "      <td>0</td>\n",
       "      <td>4</td>\n",
       "      <td>56.50</td>\n",
       "      <td>235.10</td>\n",
       "      <td>1</td>\n",
       "      <td>0</td>\n",
       "      <td>0</td>\n",
       "      <td>1</td>\n",
       "      <td>0</td>\n",
       "      <td>1</td>\n",
       "      <td>...</td>\n",
       "      <td>0</td>\n",
       "      <td>1</td>\n",
       "      <td>0</td>\n",
       "      <td>0</td>\n",
       "      <td>0</td>\n",
       "      <td>0</td>\n",
       "      <td>1</td>\n",
       "      <td>1</td>\n",
       "      <td>0</td>\n",
       "      <td>0</td>\n",
       "    </tr>\n",
       "  </tbody>\n",
       "</table>\n",
       "<p>10348 rows × 48 columns</p>\n",
       "</div>"
      ],
      "text/plain": [
       "      SeniorCitizen  tenure  MonthlyCharges  TotalCharges  gender_Female  \\\n",
       "0                 0       1           29.85         29.85              1   \n",
       "1                 0      34           56.95       1889.50              0   \n",
       "3                 0      45           42.30       1840.75              0   \n",
       "6                 0      22           89.10       1949.40              0   \n",
       "7                 0      10           29.75        301.90              1   \n",
       "...             ...     ...             ...           ...            ...   \n",
       "650               0       3           69.55        222.30              1   \n",
       "2208              1       1          100.80        100.80              1   \n",
       "2939              1      12           83.80       1029.75              0   \n",
       "3362              0       1           54.90         54.90              1   \n",
       "6746              0       4           56.50        235.10              1   \n",
       "\n",
       "      gender_Male  Partner_No  Partner_Yes  Dependents_No  Dependents_Yes  \\\n",
       "0               0           0            1              1               0   \n",
       "1               1           1            0              1               0   \n",
       "3               1           1            0              1               0   \n",
       "6               1           1            0              0               1   \n",
       "7               0           1            0              1               0   \n",
       "...           ...         ...          ...            ...             ...   \n",
       "650             0           1            0              1               0   \n",
       "2208            0           0            1              1               0   \n",
       "2939            1           1            0              1               0   \n",
       "3362            0           1            0              1               0   \n",
       "6746            0           0            1              0               1   \n",
       "\n",
       "      ...  Contract_Two year  PaperlessBilling_No  PaperlessBilling_Yes  \\\n",
       "0     ...                  0                    0                     1   \n",
       "1     ...                  0                    1                     0   \n",
       "3     ...                  0                    1                     0   \n",
       "6     ...                  0                    0                     1   \n",
       "7     ...                  0                    1                     0   \n",
       "...   ...                ...                  ...                   ...   \n",
       "650   ...                  0                    0                     1   \n",
       "2208  ...                  0                    0                     1   \n",
       "2939  ...                  0                    0                     1   \n",
       "3362  ...                  0                    0                     1   \n",
       "6746  ...                  0                    1                     0   \n",
       "\n",
       "      PaymentMethod_Bank transfer (automatic)  \\\n",
       "0                                           0   \n",
       "1                                           0   \n",
       "3                                           1   \n",
       "6                                           0   \n",
       "7                                           0   \n",
       "...                                       ...   \n",
       "650                                         1   \n",
       "2208                                        0   \n",
       "2939                                        0   \n",
       "3362                                        0   \n",
       "6746                                        0   \n",
       "\n",
       "      PaymentMethod_Credit card (automatic)  PaymentMethod_Electronic check  \\\n",
       "0                                         0                               1   \n",
       "1                                         0                               0   \n",
       "3                                         0                               0   \n",
       "6                                         1                               0   \n",
       "7                                         0                               0   \n",
       "...                                     ...                             ...   \n",
       "650                                       0                               0   \n",
       "2208                                      0                               1   \n",
       "2939                                      0                               0   \n",
       "3362                                      0                               1   \n",
       "6746                                      0                               0   \n",
       "\n",
       "      PaymentMethod_Mailed check  tenure_group_1 - 24  tenure_group_25 - 48  \\\n",
       "0                              0                    1                     0   \n",
       "1                              1                    0                     1   \n",
       "3                              0                    0                     1   \n",
       "6                              0                    1                     0   \n",
       "7                              1                    1                     0   \n",
       "...                          ...                  ...                   ...   \n",
       "650                            0                    1                     0   \n",
       "2208                           0                    1                     0   \n",
       "2939                           1                    1                     0   \n",
       "3362                           0                    1                     0   \n",
       "6746                           1                    1                     0   \n",
       "\n",
       "      tenure_group_49 - 72  \n",
       "0                        0  \n",
       "1                        0  \n",
       "3                        0  \n",
       "6                        0  \n",
       "7                        0  \n",
       "...                    ...  \n",
       "650                      0  \n",
       "2208                     0  \n",
       "2939                     0  \n",
       "3362                     0  \n",
       "6746                     0  \n",
       "\n",
       "[10348 rows x 48 columns]"
      ]
     },
     "execution_count": 38,
     "metadata": {},
     "output_type": "execute_result"
    }
   ],
   "source": [
    "x"
   ]
  },
  {
   "cell_type": "code",
   "execution_count": 39,
   "id": "unusual-programming",
   "metadata": {},
   "outputs": [
    {
     "data": {
      "text/plain": [
       "0       0\n",
       "1       0\n",
       "3       0\n",
       "6       0\n",
       "7       0\n",
       "       ..\n",
       "650     1\n",
       "2208    1\n",
       "2939    1\n",
       "3362    1\n",
       "6746    1\n",
       "Name: Churn, Length: 10348, dtype: int64"
      ]
     },
     "execution_count": 39,
     "metadata": {},
     "output_type": "execute_result"
    }
   ],
   "source": [
    "y"
   ]
  },
  {
   "cell_type": "code",
   "execution_count": 40,
   "id": "similar-temperature",
   "metadata": {},
   "outputs": [],
   "source": [
    "X_re_train,X_re_test,Y_re_train,Y_re_test = train_test_split(x,y,test_size=0.2)"
   ]
  },
  {
   "cell_type": "code",
   "execution_count": 41,
   "id": "forced-owner",
   "metadata": {},
   "outputs": [],
   "source": [
    "X_re_train = sc.fit_transform(X_re_train)\n",
    "X_re_test = sc.transform(X_re_test)"
   ]
  },
  {
   "cell_type": "markdown",
   "id": "helpful-wages",
   "metadata": {},
   "source": [
    "### Retraining the model using KNeighborsClassifier"
   ]
  },
  {
   "cell_type": "code",
   "execution_count": 42,
   "id": "blind-driver",
   "metadata": {},
   "outputs": [
    {
     "data": {
      "text/plain": [
       "KNeighborsClassifier(n_neighbors=40)"
      ]
     },
     "execution_count": 42,
     "metadata": {},
     "output_type": "execute_result"
    }
   ],
   "source": [
    "Knn_re_model = KNeighborsClassifier(n_neighbors=40)\n",
    "Knn_re_model.fit(X_re_train,Y_re_train)"
   ]
  },
  {
   "cell_type": "code",
   "execution_count": 43,
   "id": "closed-syntax",
   "metadata": {},
   "outputs": [],
   "source": [
    "y_predict_Knn_re_model = Knn_re_model.predict(X_re_test)"
   ]
  },
  {
   "cell_type": "code",
   "execution_count": 44,
   "id": "interracial-interface",
   "metadata": {},
   "outputs": [
    {
     "name": "stdout",
     "output_type": "stream",
     "text": [
      "              precision    recall  f1-score   support\n",
      "\n",
      "           0       0.80      0.66      0.72      1049\n",
      "           1       0.70      0.83      0.76      1021\n",
      "\n",
      "    accuracy                           0.75      2070\n",
      "   macro avg       0.75      0.75      0.74      2070\n",
      "weighted avg       0.75      0.75      0.74      2070\n",
      "\n",
      "[[691 358]\n",
      " [169 852]]\n",
      "Accuracy :  74.54106280193237\n"
     ]
    }
   ],
   "source": [
    "print(classification_report(Y_re_test,y_predict_Knn_re_model))\n",
    "print(confusion_matrix(Y_re_test,y_predict_Knn_re_model))\n",
    "print('Accuracy : ',accuracy_score(Y_re_test,y_predict_Knn_re_model)*100)"
   ]
  },
  {
   "cell_type": "markdown",
   "id": "dental-cooperation",
   "metadata": {},
   "source": [
    "### Retraining the model using RandomForestClassifier"
   ]
  },
  {
   "cell_type": "code",
   "execution_count": 46,
   "id": "satisfactory-mitchell",
   "metadata": {},
   "outputs": [
    {
     "data": {
      "text/plain": [
       "RandomForestClassifier(n_estimators=200)"
      ]
     },
     "execution_count": 46,
     "metadata": {},
     "output_type": "execute_result"
    }
   ],
   "source": [
    "RF_re_model = RandomForestClassifier(n_estimators=200)\n",
    "RF_re_model.fit(X_re_train,Y_re_train)"
   ]
  },
  {
   "cell_type": "code",
   "execution_count": 47,
   "id": "tracked-habitat",
   "metadata": {},
   "outputs": [],
   "source": [
    "y_predict_RF_re_model = RF_re_model.predict(X_re_test)"
   ]
  },
  {
   "cell_type": "code",
   "execution_count": 48,
   "id": "desirable-bosnia",
   "metadata": {},
   "outputs": [
    {
     "name": "stdout",
     "output_type": "stream",
     "text": [
      "              precision    recall  f1-score   support\n",
      "\n",
      "           0       0.95      0.84      0.89      1049\n",
      "           1       0.86      0.95      0.90      1021\n",
      "\n",
      "    accuracy                           0.90      2070\n",
      "   macro avg       0.90      0.90      0.90      2070\n",
      "weighted avg       0.90      0.90      0.90      2070\n",
      "\n",
      "[[886 163]\n",
      " [ 49 972]]\n",
      "Accuracy :  89.7584541062802\n"
     ]
    }
   ],
   "source": [
    "print(classification_report(Y_re_test,y_predict_RF_re_model))\n",
    "print(confusion_matrix(Y_re_test,y_predict_RF_re_model))\n",
    "print('Accuracy : ',accuracy_score(Y_re_test,y_predict_RF_re_model)*100)"
   ]
  },
  {
   "cell_type": "markdown",
   "id": "convenient-publicity",
   "metadata": {},
   "source": [
    "### Retraining the model using DecisionTree"
   ]
  },
  {
   "cell_type": "code",
   "execution_count": 49,
   "id": "alone-environment",
   "metadata": {},
   "outputs": [
    {
     "data": {
      "text/plain": [
       "DecisionTreeClassifier(splitter='random')"
      ]
     },
     "execution_count": 49,
     "metadata": {},
     "output_type": "execute_result"
    }
   ],
   "source": [
    "DT_re_model = DecisionTreeClassifier(criterion = 'gini',splitter='random')\n",
    "DT_re_model.fit(X_re_train,Y_re_train)"
   ]
  },
  {
   "cell_type": "code",
   "execution_count": 50,
   "id": "continent-fever",
   "metadata": {},
   "outputs": [],
   "source": [
    "y_predict_DT_re_model = DT_re_model.predict(X_re_test)"
   ]
  },
  {
   "cell_type": "code",
   "execution_count": 51,
   "id": "skilled-interim",
   "metadata": {},
   "outputs": [
    {
     "name": "stdout",
     "output_type": "stream",
     "text": [
      "              precision    recall  f1-score   support\n",
      "\n",
      "           0       0.94      0.80      0.86      1049\n",
      "           1       0.82      0.95      0.88      1021\n",
      "\n",
      "    accuracy                           0.87      2070\n",
      "   macro avg       0.88      0.87      0.87      2070\n",
      "weighted avg       0.88      0.87      0.87      2070\n",
      "\n",
      "[[842 207]\n",
      " [ 56 965]]\n",
      "Accuracy :  87.29468599033817\n"
     ]
    }
   ],
   "source": [
    "print(classification_report(Y_re_test,y_predict_DT_re_model))\n",
    "print(confusion_matrix(Y_re_test,y_predict_DT_re_model))\n",
    "print('Accuracy : ',accuracy_score(Y_re_test,y_predict_DT_re_model)*100)"
   ]
  },
  {
   "cell_type": "markdown",
   "id": "comparative-lying",
   "metadata": {},
   "source": [
    "### Retraining the model using SVM"
   ]
  },
  {
   "cell_type": "code",
   "execution_count": 52,
   "id": "adverse-thunder",
   "metadata": {},
   "outputs": [
    {
     "data": {
      "text/plain": [
       "SVC(probability=True)"
      ]
     },
     "execution_count": 52,
     "metadata": {},
     "output_type": "execute_result"
    }
   ],
   "source": [
    "SVM_re_model = svm.SVC(probability=True)\n",
    "SVM_re_model.fit(X_re_train,Y_re_train)"
   ]
  },
  {
   "cell_type": "code",
   "execution_count": 53,
   "id": "sudden-individual",
   "metadata": {},
   "outputs": [],
   "source": [
    "y_predict_SVM_re_model = SVM_re_model.predict(X_re_test)"
   ]
  },
  {
   "cell_type": "code",
   "execution_count": 54,
   "id": "allied-target",
   "metadata": {},
   "outputs": [
    {
     "name": "stdout",
     "output_type": "stream",
     "text": [
      "              precision    recall  f1-score   support\n",
      "\n",
      "           0       0.79      0.74      0.77      1049\n",
      "           1       0.75      0.80      0.77      1021\n",
      "\n",
      "    accuracy                           0.77      2070\n",
      "   macro avg       0.77      0.77      0.77      2070\n",
      "weighted avg       0.77      0.77      0.77      2070\n",
      "\n",
      "[[779 270]\n",
      " [206 815]]\n",
      "Accuracy :  77.0048309178744\n"
     ]
    }
   ],
   "source": [
    "print(classification_report(Y_re_test,y_predict_SVM_re_model))\n",
    "print(confusion_matrix(Y_re_test,y_predict_SVM_re_model))\n",
    "print('Accuracy : ',accuracy_score(Y_re_test,y_predict_SVM_re_model)*100)"
   ]
  },
  {
   "cell_type": "markdown",
   "id": "aquatic-addition",
   "metadata": {},
   "source": [
    "### Retraining the model using Logistic Regression"
   ]
  },
  {
   "cell_type": "code",
   "execution_count": 55,
   "id": "operating-fortune",
   "metadata": {},
   "outputs": [
    {
     "data": {
      "text/plain": [
       "LogisticRegression()"
      ]
     },
     "execution_count": 55,
     "metadata": {},
     "output_type": "execute_result"
    }
   ],
   "source": [
    "LogReg_re_model = LogisticRegression()\n",
    "LogReg_re_model.fit(X_re_train,Y_re_train)"
   ]
  },
  {
   "cell_type": "code",
   "execution_count": 56,
   "id": "essential-learning",
   "metadata": {},
   "outputs": [],
   "source": [
    "y_predict_LogReg_re_model = LogReg_re_model.predict(X_re_test)"
   ]
  },
  {
   "cell_type": "code",
   "execution_count": 57,
   "id": "fossil-construction",
   "metadata": {},
   "outputs": [
    {
     "name": "stdout",
     "output_type": "stream",
     "text": [
      "              precision    recall  f1-score   support\n",
      "\n",
      "           0       0.78      0.74      0.76      1049\n",
      "           1       0.75      0.79      0.77      1021\n",
      "\n",
      "    accuracy                           0.76      2070\n",
      "   macro avg       0.76      0.76      0.76      2070\n",
      "weighted avg       0.76      0.76      0.76      2070\n",
      "\n",
      "[[776 273]\n",
      " [217 804]]\n",
      "Accuracy :  76.32850241545893\n"
     ]
    }
   ],
   "source": [
    "print(classification_report(Y_re_test,y_predict_LogReg_re_model))\n",
    "print(confusion_matrix(Y_re_test,y_predict_LogReg_re_model))\n",
    "print('Accuracy : ',accuracy_score(Y_re_test,y_predict_LogReg_re_model)*100)"
   ]
  },
  {
   "cell_type": "markdown",
   "id": "identified-convention",
   "metadata": {},
   "source": [
    "#### After balancing the data set we again trained the model using various alogrithim \n",
    "#### KNN gave us the accuracy of 75%  with good precision recall and f1-score\n",
    "#### Decision tree also gave  the accuracy of 87%  with good precision recall and f1-score\n",
    "#### SVM gave the accuracy of 78%  with good precision recall and f1-score\n",
    "#### But in all the algorithim Random Forest showed the  best result with accuracy of 89% and almost best precision recall and f1-score among the other algorithim\n",
    "\n",
    "\n",
    "### So here we decide to build our model using Random Forest as it gave best result"
   ]
  },
  {
   "cell_type": "markdown",
   "id": "measured-shelf",
   "metadata": {},
   "source": [
    "## AUC_ROC curve"
   ]
  },
  {
   "cell_type": "code",
   "execution_count": 58,
   "id": "supposed-observation",
   "metadata": {},
   "outputs": [
    {
     "data": {
      "image/png": "[encoded data removed]",
      "text/plain": [
       "<Figure size 432x288 with 1 Axes>"
      ]
     },
     "metadata": {
      "needs_background": "light"
     },
     "output_type": "display_data"
    }
   ],
   "source": [
    "pred_proba_Knn = Knn_re_model.predict_proba(X_re_test)\n",
    "from sklearn.metrics import roc_curve\n",
    "fpr, tpr, thresh = roc_curve(Y_re_test, pred_proba_Knn[:,1], pos_label=1)\n",
    "plt.plot(fpr, tpr,color='red', label='KNN')\n",
    "plt.title('ROC curve')\n",
    "plt.xlabel('False Positive Rate')\n",
    "plt.ylabel('True Positive rate')\n",
    "plt.show()"
   ]
  },
  {
   "cell_type": "code",
   "execution_count": 59,
   "id": "naval-biology",
   "metadata": {},
   "outputs": [
    {
     "data": {
      "image/png": "[encoded data removed]",
      "text/plain": [
       "<Figure size 432x288 with 1 Axes>"
      ]
     },
     "metadata": {
      "needs_background": "light"
     },
     "output_type": "display_data"
    }
   ],
   "source": [
    "pred_proba_logreg = LogReg_re_model.predict_proba(X_re_test)\n",
    "fpr, tpr, thresh = roc_curve(Y_re_test, pred_proba_logreg[:,1], pos_label=1)\n",
    "plt.plot(fpr, tpr,color='blue', label='Logistic Regression')\n",
    "plt.title('ROC curve')\n",
    "plt.xlabel('False Positive Rate')\n",
    "plt.ylabel('True Positive rate')\n",
    "plt.show()"
   ]
  },
  {
   "cell_type": "code",
   "execution_count": 60,
   "id": "static-hacker",
   "metadata": {},
   "outputs": [
    {
     "data": {
      "image/png": "[encoded data removed]",
      "text/plain": [
       "<Figure size 432x288 with 1 Axes>"
      ]
     },
     "metadata": {
      "needs_background": "light"
     },
     "output_type": "display_data"
    }
   ],
   "source": [
    "pred_probaRDForest = RF_re_model.predict_proba(X_re_test)\n",
    "fpr,tpr,thresh=roc_curve(Y_re_test,pred_probaRDForest[:,1])\n",
    "plt.plot(fpr,tpr,color = 'brown',label='Random Forest')\n",
    "plt.title('ROC curve')\n",
    "plt.xlabel('False Positive Rate')\n",
    "plt.ylabel('True Positive rate')\n",
    "plt.show()"
   ]
  },
  {
   "cell_type": "code",
   "execution_count": 61,
   "id": "alternative-georgia",
   "metadata": {},
   "outputs": [
    {
     "data": {
      "image/png": "[encoded data removed]",
      "text/plain": [
       "<Figure size 432x288 with 1 Axes>"
      ]
     },
     "metadata": {
      "needs_background": "light"
     },
     "output_type": "display_data"
    }
   ],
   "source": [
    "pred_probaDTree = DT_re_model.predict_proba(X_re_test)\n",
    "fpr,tpr,thresh=roc_curve(Y_re_test,pred_probaDTree[:,1])\n",
    "plt.plot(fpr,tpr,color = 'yellow',label='Decision Tree')\n",
    "plt.title('ROC curve')\n",
    "plt.xlabel('False Positive Rate')\n",
    "plt.ylabel('True Positive rate')\n",
    "plt.show()"
   ]
  },
  {
   "cell_type": "code",
   "execution_count": 63,
   "id": "upset-prison",
   "metadata": {},
   "outputs": [
    {
     "data": {
      "image/png": "[encoded data removed]",
      "text/plain": [
       "<Figure size 432x288 with 1 Axes>"
      ]
     },
     "metadata": {
      "needs_background": "light"
     },
     "output_type": "display_data"
    }
   ],
   "source": [
    "pred_probaSVM = SVM_re_model.predict_proba(X_re_test)\n",
    "fpr,tpr,thresh=roc_curve(Y_re_test,pred_probaSVM[:,1])\n",
    "plt.plot(fpr,tpr,color = 'green',label='Random Forest')\n",
    "plt.title('ROC curve')\n",
    "plt.xlabel('False Positive Rate')\n",
    "plt.ylabel('True Positive rate')\n",
    "plt.show()"
   ]
  },
  {
   "cell_type": "markdown",
   "id": "thermal-privacy",
   "metadata": {},
   "source": [
    "### Using AUC-ROC curve also we got the insight that randomforest model is predicting the values correctly as compared to other models."
   ]
  },
  {
   "cell_type": "markdown",
   "id": "current-idaho",
   "metadata": {},
   "source": [
    "### Here we will save our final selected model i.e random forest model in the file."
   ]
  },
  {
   "cell_type": "code",
   "execution_count": 64,
   "id": "hairy-server",
   "metadata": {},
   "outputs": [],
   "source": [
    "import pickle"
   ]
  },
  {
   "cell_type": "code",
   "execution_count": 65,
   "id": "fifth-kelly",
   "metadata": {},
   "outputs": [],
   "source": [
    "name='RDForest_model.sav'"
   ]
  },
  {
   "cell_type": "code",
   "execution_count": 66,
   "id": "acknowledged-empire",
   "metadata": {},
   "outputs": [],
   "source": [
    "pickle.dump(RF_re_model, open(name, 'wb'))"
   ]
  },
  {
   "cell_type": "code",
   "execution_count": null,
   "id": "indie-navigator",
   "metadata": {},
   "outputs": [],
   "source": []
  }
 ],
 "metadata": {
  "kernelspec": {
   "display_name": "Python 3",
   "language": "python",
   "name": "python3"
  },
  "language_info": {
   "codemirror_mode": {
    "name": "ipython",
    "version": 3
   },
   "file_extension": ".py",
   "mimetype": "text/x-python",
   "name": "python",
   "nbconvert_exporter": "python",
   "pygments_lexer": "ipython3",
   "version": "3.8.5"
  }
 },
 "nbformat": 4,
 "nbformat_minor": 5
}
